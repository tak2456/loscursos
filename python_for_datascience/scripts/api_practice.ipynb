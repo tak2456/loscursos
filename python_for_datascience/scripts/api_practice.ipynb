{
 "cells": [
  {
   "cell_type": "markdown",
   "metadata": {},
   "source": [
    "## **Get Methods**\n",
    "\n",
    "- get_cell()\n",
    "- get_city()\n",
    "- get_dob()\n",
    "- get_email()\n",
    "- get_first_name()\n",
    "- get_full_name()\n",
    "- get_gender()\n",
    "- get_id()\n",
    "- get_id_number()\n",
    "- get_id_type()\n",
    "- get_info()\n",
    "- get_last_name()\n",
    "- get_login_md5()\n",
    "- get_login_salt()\n",
    "- get_login_sha1()\n",
    "- get_login_sha256()\n",
    "- get_nat()\n",
    "- get_password()\n",
    "- get_phone()\n",
    "- get_picture()\n",
    "- get_postcode()\n",
    "- get_registered()\n",
    "- get_state()\n",
    "- get_street()\n",
    "- get_username()\n",
    "- get_zipcode()\n"
   ]
  },
  {
   "cell_type": "code",
   "execution_count": 1,
   "metadata": {},
   "outputs": [
    {
     "name": "stdout",
     "output_type": "stream",
     "text": [
      "Collecting randomuser\n",
      "  Downloading randomuser-1.6.tar.gz (5.0 kB)\n",
      "  Installing build dependencies: started\n",
      "  Installing build dependencies: finished with status 'done'\n",
      "  Getting requirements to build wheel: started\n",
      "  Getting requirements to build wheel: finished with status 'done'\n",
      "  Preparing metadata (pyproject.toml): started\n",
      "  Preparing metadata (pyproject.toml): finished with status 'done'\n",
      "Building wheels for collected packages: randomuser\n",
      "  Building wheel for randomuser (pyproject.toml): started\n",
      "  Building wheel for randomuser (pyproject.toml): finished with status 'done'\n",
      "  Created wheel for randomuser: filename=randomuser-1.6-py3-none-any.whl size=5088 sha256=547970b112e13840d1dc5c1ec1b2d0be0cf37dc2860a964b585e6a043e710ef2\n",
      "  Stored in directory: c:\\users\\nosakat\\appdata\\local\\pip\\cache\\wheels\\be\\62\\c8\\71e1b48f4758ea5b78af7595d87178f628cde315a3326610ee\n",
      "Successfully built randomuser\n",
      "Installing collected packages: randomuser\n",
      "Successfully installed randomuser-1.6\n",
      "Requirement already satisfied: pandas in d:\\work\\python\\ds\\loscursos\\python_for_datascience\\env\\lib\\site-packages (2.2.3)\n",
      "Requirement already satisfied: numpy>=1.26.0 in d:\\work\\python\\ds\\loscursos\\python_for_datascience\\env\\lib\\site-packages (from pandas) (2.1.3)\n",
      "Requirement already satisfied: python-dateutil>=2.8.2 in d:\\work\\python\\ds\\loscursos\\python_for_datascience\\env\\lib\\site-packages (from pandas) (2.9.0.post0)\n",
      "Requirement already satisfied: pytz>=2020.1 in d:\\work\\python\\ds\\loscursos\\python_for_datascience\\env\\lib\\site-packages (from pandas) (2024.2)\n",
      "Requirement already satisfied: tzdata>=2022.7 in d:\\work\\python\\ds\\loscursos\\python_for_datascience\\env\\lib\\site-packages (from pandas) (2024.2)\n",
      "Requirement already satisfied: six>=1.5 in d:\\work\\python\\ds\\loscursos\\python_for_datascience\\env\\lib\\site-packages (from python-dateutil>=2.8.2->pandas) (1.16.0)\n"
     ]
    }
   ],
   "source": [
    "!pip install randomuser\n",
    "!pip install pandas"
   ]
  },
  {
   "cell_type": "code",
   "execution_count": 4,
   "metadata": {},
   "outputs": [],
   "source": [
    "from randomuser import RandomUser\n",
    "import pandas as pd \n"
   ]
  },
  {
   "cell_type": "code",
   "execution_count": 11,
   "metadata": {},
   "outputs": [
    {
     "data": {
      "text/plain": [
       "<randomuser.RandomUser at 0x236fb9cf4a0>"
      ]
     },
     "execution_count": 11,
     "metadata": {},
     "output_type": "execute_result"
    }
   ],
   "source": [
    "r=RandomUser()\n",
    "r"
   ]
  },
  {
   "cell_type": "code",
   "execution_count": 8,
   "metadata": {},
   "outputs": [
    {
     "data": {
      "text/plain": [
       "[<randomuser.RandomUser at 0x236fcb1b080>,\n",
       " <randomuser.RandomUser at 0x236fcb1b0b0>,\n",
       " <randomuser.RandomUser at 0x236fcb1b0e0>,\n",
       " <randomuser.RandomUser at 0x236fcb1b110>,\n",
       " <randomuser.RandomUser at 0x236fcb1b140>,\n",
       " <randomuser.RandomUser at 0x236fcb1b170>,\n",
       " <randomuser.RandomUser at 0x236fcb1b1a0>,\n",
       " <randomuser.RandomUser at 0x236fcb1b1d0>,\n",
       " <randomuser.RandomUser at 0x236fcb1b200>,\n",
       " <randomuser.RandomUser at 0x236fcb1b230>]"
      ]
     },
     "execution_count": 8,
     "metadata": {},
     "output_type": "execute_result"
    }
   ],
   "source": [
    "some_list = r.generate_users(10)\n",
    "some_list"
   ]
  },
  {
   "cell_type": "code",
   "execution_count": 12,
   "metadata": {},
   "outputs": [
    {
     "data": {
      "text/plain": [
       "'Allie Coleman'"
      ]
     },
     "execution_count": 12,
     "metadata": {},
     "output_type": "execute_result"
    }
   ],
   "source": [
    "r.get_full_name()"
   ]
  },
  {
   "cell_type": "code",
   "execution_count": 13,
   "metadata": {},
   "outputs": [
    {
     "name": "stdout",
     "output_type": "stream",
     "text": [
      "Tony Lee   tony.lee@example.com\n",
      "Thibaut David   thibaut.david@example.com\n",
      "Ellen West   ellen.west@example.com\n",
      "Salviano Souza   salviano.souza@example.com\n",
      "احسان موسوی   hsn.mwswy@example.com\n",
      "Hans Josef Löwe   hansjosef.lowe@example.com\n",
      "Sara Rodriguez   sara.rodriguez@example.com\n",
      "Caroline Christiansen   caroline.christiansen@example.com\n",
      "Gökhan Alyanak   gokhan.alyanak@example.com\n",
      "Claude Moulin   claude.moulin@example.com\n"
     ]
    }
   ],
   "source": [
    "for user in some_list:\n",
    "    print (user.get_full_name(),\" \",user.get_email())"
   ]
  },
  {
   "cell_type": "code",
   "execution_count": 14,
   "metadata": {},
   "outputs": [
    {
     "name": "stdout",
     "output_type": "stream",
     "text": [
      "https://randomuser.me/api/portraits/men/10.jpg\n",
      "https://randomuser.me/api/portraits/men/33.jpg\n",
      "https://randomuser.me/api/portraits/women/11.jpg\n",
      "https://randomuser.me/api/portraits/men/36.jpg\n",
      "https://randomuser.me/api/portraits/men/55.jpg\n",
      "https://randomuser.me/api/portraits/men/2.jpg\n",
      "https://randomuser.me/api/portraits/women/16.jpg\n",
      "https://randomuser.me/api/portraits/women/53.jpg\n",
      "https://randomuser.me/api/portraits/men/16.jpg\n",
      "https://randomuser.me/api/portraits/women/88.jpg\n"
     ]
    }
   ],
   "source": [
    "for user in some_list:\n",
    "    print (user.get_picture())"
   ]
  },
  {
   "cell_type": "code",
   "execution_count": 15,
   "metadata": {},
   "outputs": [],
   "source": [
    "def get_users():\n",
    "    users =[]\n",
    "     \n",
    "    for user in RandomUser.generate_users(10):\n",
    "        users.append({\"Name\":user.get_full_name(),\"Gender\":user.get_gender(),\"City\":user.get_city(),\"State\":user.get_state(),\"Email\":user.get_email(), \"DOB\":user.get_dob(),\"Picture\":user.get_picture()})\n",
    "      \n",
    "    return pd.DataFrame(users)     "
   ]
  },
  {
   "cell_type": "code",
   "execution_count": 16,
   "metadata": {},
   "outputs": [
    {
     "data": {
      "text/html": [
       "<div>\n",
       "<style scoped>\n",
       "    .dataframe tbody tr th:only-of-type {\n",
       "        vertical-align: middle;\n",
       "    }\n",
       "\n",
       "    .dataframe tbody tr th {\n",
       "        vertical-align: top;\n",
       "    }\n",
       "\n",
       "    .dataframe thead th {\n",
       "        text-align: right;\n",
       "    }\n",
       "</style>\n",
       "<table border=\"1\" class=\"dataframe\">\n",
       "  <thead>\n",
       "    <tr style=\"text-align: right;\">\n",
       "      <th></th>\n",
       "      <th>Name</th>\n",
       "      <th>Gender</th>\n",
       "      <th>City</th>\n",
       "      <th>State</th>\n",
       "      <th>Email</th>\n",
       "      <th>DOB</th>\n",
       "      <th>Picture</th>\n",
       "    </tr>\n",
       "  </thead>\n",
       "  <tbody>\n",
       "    <tr>\n",
       "      <th>0</th>\n",
       "      <td>Jozefien Luiken</td>\n",
       "      <td>female</td>\n",
       "      <td>Bergschenhoek</td>\n",
       "      <td>Limburg</td>\n",
       "      <td>jozefien.luiken@example.com</td>\n",
       "      <td>1962-11-19T06:54:23.964Z</td>\n",
       "      <td>https://randomuser.me/api/portraits/women/24.jpg</td>\n",
       "    </tr>\n",
       "    <tr>\n",
       "      <th>1</th>\n",
       "      <td>Uli Höll</td>\n",
       "      <td>male</td>\n",
       "      <td>Erlenbach am Main</td>\n",
       "      <td>Nordrhein-Westfalen</td>\n",
       "      <td>uli.holl@example.com</td>\n",
       "      <td>1972-02-01T21:05:52.260Z</td>\n",
       "      <td>https://randomuser.me/api/portraits/men/78.jpg</td>\n",
       "    </tr>\n",
       "    <tr>\n",
       "      <th>2</th>\n",
       "      <td>June Wallace</td>\n",
       "      <td>female</td>\n",
       "      <td>Grand Rapids</td>\n",
       "      <td>New York</td>\n",
       "      <td>june.wallace@example.com</td>\n",
       "      <td>1969-10-20T09:49:25.970Z</td>\n",
       "      <td>https://randomuser.me/api/portraits/women/80.jpg</td>\n",
       "    </tr>\n",
       "    <tr>\n",
       "      <th>3</th>\n",
       "      <td>مانی رضاییان</td>\n",
       "      <td>male</td>\n",
       "      <td>بجنورد</td>\n",
       "      <td>کردستان</td>\n",
       "      <td>mny.rdyyn@example.com</td>\n",
       "      <td>1978-01-27T06:33:19.703Z</td>\n",
       "      <td>https://randomuser.me/api/portraits/men/19.jpg</td>\n",
       "    </tr>\n",
       "    <tr>\n",
       "      <th>4</th>\n",
       "      <td>Natnael Ditlefsen</td>\n",
       "      <td>male</td>\n",
       "      <td>Vingrom</td>\n",
       "      <td>Oslo</td>\n",
       "      <td>natnael.ditlefsen@example.com</td>\n",
       "      <td>1971-01-03T10:19:02.815Z</td>\n",
       "      <td>https://randomuser.me/api/portraits/men/89.jpg</td>\n",
       "    </tr>\n",
       "    <tr>\n",
       "      <th>5</th>\n",
       "      <td>Ava Turner</td>\n",
       "      <td>female</td>\n",
       "      <td>Palmerston North</td>\n",
       "      <td>Bay of Plenty</td>\n",
       "      <td>ava.turner@example.com</td>\n",
       "      <td>1989-11-20T23:15:54.679Z</td>\n",
       "      <td>https://randomuser.me/api/portraits/women/5.jpg</td>\n",
       "    </tr>\n",
       "    <tr>\n",
       "      <th>6</th>\n",
       "      <td>Oliver Pedersen</td>\n",
       "      <td>male</td>\n",
       "      <td>Rønnede</td>\n",
       "      <td>Danmark</td>\n",
       "      <td>oliver.pedersen@example.com</td>\n",
       "      <td>1961-02-02T11:33:43.433Z</td>\n",
       "      <td>https://randomuser.me/api/portraits/men/97.jpg</td>\n",
       "    </tr>\n",
       "    <tr>\n",
       "      <th>7</th>\n",
       "      <td>Zoubeir Nout</td>\n",
       "      <td>male</td>\n",
       "      <td>Biggekerke</td>\n",
       "      <td>Noord-Brabant</td>\n",
       "      <td>zoubeir.nout@example.com</td>\n",
       "      <td>1987-04-11T20:27:45.662Z</td>\n",
       "      <td>https://randomuser.me/api/portraits/men/44.jpg</td>\n",
       "    </tr>\n",
       "    <tr>\n",
       "      <th>8</th>\n",
       "      <td>Henry Price</td>\n",
       "      <td>male</td>\n",
       "      <td>Anna</td>\n",
       "      <td>Oregon</td>\n",
       "      <td>henry.price@example.com</td>\n",
       "      <td>1979-08-06T16:52:09.946Z</td>\n",
       "      <td>https://randomuser.me/api/portraits/men/41.jpg</td>\n",
       "    </tr>\n",
       "    <tr>\n",
       "      <th>9</th>\n",
       "      <td>Mohamed Martinez</td>\n",
       "      <td>male</td>\n",
       "      <td>Talavera de la Reina</td>\n",
       "      <td>Asturias</td>\n",
       "      <td>mohamed.martinez@example.com</td>\n",
       "      <td>1988-01-13T14:31:44.463Z</td>\n",
       "      <td>https://randomuser.me/api/portraits/men/56.jpg</td>\n",
       "    </tr>\n",
       "  </tbody>\n",
       "</table>\n",
       "</div>"
      ],
      "text/plain": [
       "                Name  Gender                  City                State  \\\n",
       "0    Jozefien Luiken  female         Bergschenhoek              Limburg   \n",
       "1           Uli Höll    male     Erlenbach am Main  Nordrhein-Westfalen   \n",
       "2       June Wallace  female          Grand Rapids             New York   \n",
       "3       مانی رضاییان    male                بجنورد              کردستان   \n",
       "4  Natnael Ditlefsen    male               Vingrom                 Oslo   \n",
       "5         Ava Turner  female      Palmerston North        Bay of Plenty   \n",
       "6    Oliver Pedersen    male               Rønnede              Danmark   \n",
       "7       Zoubeir Nout    male            Biggekerke        Noord-Brabant   \n",
       "8        Henry Price    male                  Anna               Oregon   \n",
       "9   Mohamed Martinez    male  Talavera de la Reina             Asturias   \n",
       "\n",
       "                           Email                       DOB  \\\n",
       "0    jozefien.luiken@example.com  1962-11-19T06:54:23.964Z   \n",
       "1           uli.holl@example.com  1972-02-01T21:05:52.260Z   \n",
       "2       june.wallace@example.com  1969-10-20T09:49:25.970Z   \n",
       "3          mny.rdyyn@example.com  1978-01-27T06:33:19.703Z   \n",
       "4  natnael.ditlefsen@example.com  1971-01-03T10:19:02.815Z   \n",
       "5         ava.turner@example.com  1989-11-20T23:15:54.679Z   \n",
       "6    oliver.pedersen@example.com  1961-02-02T11:33:43.433Z   \n",
       "7       zoubeir.nout@example.com  1987-04-11T20:27:45.662Z   \n",
       "8        henry.price@example.com  1979-08-06T16:52:09.946Z   \n",
       "9   mohamed.martinez@example.com  1988-01-13T14:31:44.463Z   \n",
       "\n",
       "                                            Picture  \n",
       "0  https://randomuser.me/api/portraits/women/24.jpg  \n",
       "1    https://randomuser.me/api/portraits/men/78.jpg  \n",
       "2  https://randomuser.me/api/portraits/women/80.jpg  \n",
       "3    https://randomuser.me/api/portraits/men/19.jpg  \n",
       "4    https://randomuser.me/api/portraits/men/89.jpg  \n",
       "5   https://randomuser.me/api/portraits/women/5.jpg  \n",
       "6    https://randomuser.me/api/portraits/men/97.jpg  \n",
       "7    https://randomuser.me/api/portraits/men/44.jpg  \n",
       "8    https://randomuser.me/api/portraits/men/41.jpg  \n",
       "9    https://randomuser.me/api/portraits/men/56.jpg  "
      ]
     },
     "execution_count": 16,
     "metadata": {},
     "output_type": "execute_result"
    }
   ],
   "source": [
    "get_users()"
   ]
  },
  {
   "cell_type": "code",
   "execution_count": 17,
   "metadata": {},
   "outputs": [],
   "source": [
    "df1=pd.DataFrame(get_users())"
   ]
  },
  {
   "cell_type": "code",
   "execution_count": 19,
   "metadata": {},
   "outputs": [
    {
     "data": {
      "text/html": [
       "<div>\n",
       "<style scoped>\n",
       "    .dataframe tbody tr th:only-of-type {\n",
       "        vertical-align: middle;\n",
       "    }\n",
       "\n",
       "    .dataframe tbody tr th {\n",
       "        vertical-align: top;\n",
       "    }\n",
       "\n",
       "    .dataframe thead th {\n",
       "        text-align: right;\n",
       "    }\n",
       "</style>\n",
       "<table border=\"1\" class=\"dataframe\">\n",
       "  <thead>\n",
       "    <tr style=\"text-align: right;\">\n",
       "      <th></th>\n",
       "      <th>Name</th>\n",
       "      <th>Gender</th>\n",
       "      <th>City</th>\n",
       "      <th>State</th>\n",
       "      <th>Email</th>\n",
       "      <th>DOB</th>\n",
       "      <th>Picture</th>\n",
       "    </tr>\n",
       "  </thead>\n",
       "  <tbody>\n",
       "    <tr>\n",
       "      <th>0</th>\n",
       "      <td>Ellen Washington</td>\n",
       "      <td>female</td>\n",
       "      <td>Australian Capital Territory</td>\n",
       "      <td>Northern Territory</td>\n",
       "      <td>ellen.washington@example.com</td>\n",
       "      <td>1986-11-30T14:21:28.108Z</td>\n",
       "      <td>https://randomuser.me/api/portraits/women/40.jpg</td>\n",
       "    </tr>\n",
       "    <tr>\n",
       "      <th>1</th>\n",
       "      <td>Johnni Clark</td>\n",
       "      <td>male</td>\n",
       "      <td>Southampton</td>\n",
       "      <td>County Armagh</td>\n",
       "      <td>johnni.clark@example.com</td>\n",
       "      <td>1958-12-08T21:05:50.133Z</td>\n",
       "      <td>https://randomuser.me/api/portraits/men/89.jpg</td>\n",
       "    </tr>\n",
       "    <tr>\n",
       "      <th>2</th>\n",
       "      <td>Soham Baker</td>\n",
       "      <td>male</td>\n",
       "      <td>Westminster</td>\n",
       "      <td>County Down</td>\n",
       "      <td>soham.baker@example.com</td>\n",
       "      <td>1995-12-29T13:36:25.373Z</td>\n",
       "      <td>https://randomuser.me/api/portraits/men/98.jpg</td>\n",
       "    </tr>\n",
       "    <tr>\n",
       "      <th>3</th>\n",
       "      <td>Gaspard Chevalier</td>\n",
       "      <td>male</td>\n",
       "      <td>Versailles</td>\n",
       "      <td>Aude</td>\n",
       "      <td>gaspard.chevalier@example.com</td>\n",
       "      <td>1985-04-25T15:36:09.800Z</td>\n",
       "      <td>https://randomuser.me/api/portraits/men/63.jpg</td>\n",
       "    </tr>\n",
       "    <tr>\n",
       "      <th>4</th>\n",
       "      <td>Isabelle Lynch</td>\n",
       "      <td>female</td>\n",
       "      <td>Loughrea</td>\n",
       "      <td>Galway City</td>\n",
       "      <td>isabelle.lynch@example.com</td>\n",
       "      <td>1962-05-03T08:08:40.733Z</td>\n",
       "      <td>https://randomuser.me/api/portraits/women/89.jpg</td>\n",
       "    </tr>\n",
       "  </tbody>\n",
       "</table>\n",
       "</div>"
      ],
      "text/plain": [
       "                Name  Gender                          City  \\\n",
       "0   Ellen Washington  female  Australian Capital Territory   \n",
       "1       Johnni Clark    male                   Southampton   \n",
       "2        Soham Baker    male                   Westminster   \n",
       "3  Gaspard Chevalier    male                    Versailles   \n",
       "4     Isabelle Lynch  female                      Loughrea   \n",
       "\n",
       "                State                          Email  \\\n",
       "0  Northern Territory   ellen.washington@example.com   \n",
       "1       County Armagh       johnni.clark@example.com   \n",
       "2         County Down        soham.baker@example.com   \n",
       "3                Aude  gaspard.chevalier@example.com   \n",
       "4         Galway City     isabelle.lynch@example.com   \n",
       "\n",
       "                        DOB                                           Picture  \n",
       "0  1986-11-30T14:21:28.108Z  https://randomuser.me/api/portraits/women/40.jpg  \n",
       "1  1958-12-08T21:05:50.133Z    https://randomuser.me/api/portraits/men/89.jpg  \n",
       "2  1995-12-29T13:36:25.373Z    https://randomuser.me/api/portraits/men/98.jpg  \n",
       "3  1985-04-25T15:36:09.800Z    https://randomuser.me/api/portraits/men/63.jpg  \n",
       "4  1962-05-03T08:08:40.733Z  https://randomuser.me/api/portraits/women/89.jpg  "
      ]
     },
     "execution_count": 19,
     "metadata": {},
     "output_type": "execute_result"
    }
   ],
   "source": [
    "df1.head()"
   ]
  },
  {
   "cell_type": "code",
   "execution_count": 20,
   "metadata": {},
   "outputs": [],
   "source": [
    "funny_url='https://official-joke-api.appspot.com/jokes/ten'"
   ]
  },
  {
   "cell_type": "code",
   "execution_count": 28,
   "metadata": {},
   "outputs": [
    {
     "data": {
      "text/plain": [
       "[{'type': 'general',\n",
       "  'setup': 'What do you call two barracuda fish?',\n",
       "  'punchline': 'A Pairacuda!',\n",
       "  'id': 225},\n",
       " {'type': 'general',\n",
       "  'setup': 'What is the tallest building in the world?',\n",
       "  'punchline': 'The library, it’s got the most stories!',\n",
       "  'id': 248},\n",
       " {'type': 'general',\n",
       "  'setup': 'Why are ghosts bad liars?',\n",
       "  'punchline': 'Because you can see right through them!',\n",
       "  'id': 300},\n",
       " {'type': 'general',\n",
       "  'setup': 'Why did the math book look sad?',\n",
       "  'punchline': 'Because it had too many problems.',\n",
       "  'id': 422},\n",
       " {'type': 'general',\n",
       "  'setup': 'Why do bees hum?',\n",
       "  'punchline': \"Because they don't know the words.\",\n",
       "  'id': 343},\n",
       " {'type': 'programming',\n",
       "  'setup': 'Where did the API go to eat?',\n",
       "  'punchline': 'To the RESTaurant.',\n",
       "  'id': 390},\n",
       " {'type': 'general',\n",
       "  'setup': \"What's a computer's favorite snack?\",\n",
       "  'punchline': 'Microchips.',\n",
       "  'id': 423},\n",
       " {'type': 'general',\n",
       "  'setup': 'Why did the cookie cry?',\n",
       "  'punchline': 'Because his mother was a wafer so long',\n",
       "  'id': 320},\n",
       " {'type': 'general',\n",
       "  'setup': 'What did the pirate say on his 80th birthday?',\n",
       "  'punchline': 'Aye Matey!',\n",
       "  'id': 181},\n",
       " {'type': 'programming',\n",
       "  'setup': 'How do you generate a random string?',\n",
       "  'punchline': 'Put a Windows user in front of Vim and tell them to exit.',\n",
       "  'id': 405}]"
      ]
     },
     "execution_count": 28,
     "metadata": {},
     "output_type": "execute_result"
    }
   ],
   "source": [
    "import requests\n",
    "jokes = requests.get(funny_url).json()\n",
    "jokes"
   ]
  },
  {
   "cell_type": "code",
   "execution_count": 32,
   "metadata": {},
   "outputs": [
    {
     "data": {
      "text/plain": [
       "[{'type': 'general',\n",
       "  'setup': 'Why did the cookie cry?',\n",
       "  'punchline': 'Because his mother was a wafer so long',\n",
       "  'id': 320},\n",
       " {'type': 'general',\n",
       "  'setup': 'What did the digital clock say to the grandfather clock?',\n",
       "  'punchline': 'Look, no hands!',\n",
       "  'id': 169},\n",
       " {'type': 'programming',\n",
       "  'setup': \"What's the best thing about a Boolean?\",\n",
       "  'punchline': \"Even if you're wrong, you're only off by a bit.\",\n",
       "  'id': 409},\n",
       " {'type': 'general',\n",
       "  'setup': 'What do you do when you see a space man?',\n",
       "  'punchline': 'Park your car, man.',\n",
       "  'id': 227},\n",
       " {'type': 'general',\n",
       "  'setup': 'How did the hipster burn the roof of his mouth?',\n",
       "  'punchline': 'He ate the pizza before it was cool.',\n",
       "  'id': 117},\n",
       " {'type': 'general',\n",
       "  'setup': 'A grocery store cashier asked if I would like my milk in a bag.',\n",
       "  'punchline': \"I told her 'No, thanks. The carton works fine.'\",\n",
       "  'id': 397},\n",
       " {'type': 'general',\n",
       "  'setup': 'Did you hear that the police have a warrant out on a midget psychic ripping people off?',\n",
       "  'punchline': 'It reads \"Small medium at large.\"',\n",
       "  'id': 97},\n",
       " {'type': 'general',\n",
       "  'setup': 'What kind of magic do cows believe in?',\n",
       "  'punchline': 'MOODOO.',\n",
       "  'id': 254},\n",
       " {'type': 'general',\n",
       "  'setup': 'How good are you at Power Point?',\n",
       "  'punchline': 'I Excel at it.',\n",
       "  'id': 128},\n",
       " {'type': 'general',\n",
       "  'setup': 'What do you get hanging from Apple trees?',\n",
       "  'punchline': 'Sore arms.',\n",
       "  'id': 228}]"
      ]
     },
     "execution_count": 32,
     "metadata": {},
     "output_type": "execute_result"
    }
   ],
   "source": [
    "import json\n",
    "result = json.loads(requests.get(funny_url).text)\n",
    "result"
   ]
  },
  {
   "cell_type": "code",
   "execution_count": 33,
   "metadata": {},
   "outputs": [],
   "source": [
    "df3=pd.DataFrame(jokes)"
   ]
  },
  {
   "cell_type": "code",
   "execution_count": 34,
   "metadata": {},
   "outputs": [
    {
     "data": {
      "text/html": [
       "<div>\n",
       "<style scoped>\n",
       "    .dataframe tbody tr th:only-of-type {\n",
       "        vertical-align: middle;\n",
       "    }\n",
       "\n",
       "    .dataframe tbody tr th {\n",
       "        vertical-align: top;\n",
       "    }\n",
       "\n",
       "    .dataframe thead th {\n",
       "        text-align: right;\n",
       "    }\n",
       "</style>\n",
       "<table border=\"1\" class=\"dataframe\">\n",
       "  <thead>\n",
       "    <tr style=\"text-align: right;\">\n",
       "      <th></th>\n",
       "      <th>type</th>\n",
       "      <th>setup</th>\n",
       "      <th>punchline</th>\n",
       "      <th>id</th>\n",
       "    </tr>\n",
       "  </thead>\n",
       "  <tbody>\n",
       "    <tr>\n",
       "      <th>0</th>\n",
       "      <td>general</td>\n",
       "      <td>What do you call two barracuda fish?</td>\n",
       "      <td>A Pairacuda!</td>\n",
       "      <td>225</td>\n",
       "    </tr>\n",
       "    <tr>\n",
       "      <th>1</th>\n",
       "      <td>general</td>\n",
       "      <td>What is the tallest building in the world?</td>\n",
       "      <td>The library, it’s got the most stories!</td>\n",
       "      <td>248</td>\n",
       "    </tr>\n",
       "    <tr>\n",
       "      <th>2</th>\n",
       "      <td>general</td>\n",
       "      <td>Why are ghosts bad liars?</td>\n",
       "      <td>Because you can see right through them!</td>\n",
       "      <td>300</td>\n",
       "    </tr>\n",
       "    <tr>\n",
       "      <th>3</th>\n",
       "      <td>general</td>\n",
       "      <td>Why did the math book look sad?</td>\n",
       "      <td>Because it had too many problems.</td>\n",
       "      <td>422</td>\n",
       "    </tr>\n",
       "    <tr>\n",
       "      <th>4</th>\n",
       "      <td>general</td>\n",
       "      <td>Why do bees hum?</td>\n",
       "      <td>Because they don't know the words.</td>\n",
       "      <td>343</td>\n",
       "    </tr>\n",
       "  </tbody>\n",
       "</table>\n",
       "</div>"
      ],
      "text/plain": [
       "      type                                       setup  \\\n",
       "0  general        What do you call two barracuda fish?   \n",
       "1  general  What is the tallest building in the world?   \n",
       "2  general                   Why are ghosts bad liars?   \n",
       "3  general             Why did the math book look sad?   \n",
       "4  general                            Why do bees hum?   \n",
       "\n",
       "                                 punchline   id  \n",
       "0                             A Pairacuda!  225  \n",
       "1  The library, it’s got the most stories!  248  \n",
       "2  Because you can see right through them!  300  \n",
       "3        Because it had too many problems.  422  \n",
       "4       Because they don't know the words.  343  "
      ]
     },
     "execution_count": 34,
     "metadata": {},
     "output_type": "execute_result"
    }
   ],
   "source": [
    "df3.head()"
   ]
  },
  {
   "cell_type": "code",
   "execution_count": 35,
   "metadata": {},
   "outputs": [],
   "source": [
    "df3.drop(columns=['id','type'],inplace=True)"
   ]
  },
  {
   "cell_type": "code",
   "execution_count": 36,
   "metadata": {},
   "outputs": [
    {
     "data": {
      "text/html": [
       "<div>\n",
       "<style scoped>\n",
       "    .dataframe tbody tr th:only-of-type {\n",
       "        vertical-align: middle;\n",
       "    }\n",
       "\n",
       "    .dataframe tbody tr th {\n",
       "        vertical-align: top;\n",
       "    }\n",
       "\n",
       "    .dataframe thead th {\n",
       "        text-align: right;\n",
       "    }\n",
       "</style>\n",
       "<table border=\"1\" class=\"dataframe\">\n",
       "  <thead>\n",
       "    <tr style=\"text-align: right;\">\n",
       "      <th></th>\n",
       "      <th>setup</th>\n",
       "      <th>punchline</th>\n",
       "    </tr>\n",
       "  </thead>\n",
       "  <tbody>\n",
       "    <tr>\n",
       "      <th>0</th>\n",
       "      <td>What do you call two barracuda fish?</td>\n",
       "      <td>A Pairacuda!</td>\n",
       "    </tr>\n",
       "    <tr>\n",
       "      <th>1</th>\n",
       "      <td>What is the tallest building in the world?</td>\n",
       "      <td>The library, it’s got the most stories!</td>\n",
       "    </tr>\n",
       "    <tr>\n",
       "      <th>2</th>\n",
       "      <td>Why are ghosts bad liars?</td>\n",
       "      <td>Because you can see right through them!</td>\n",
       "    </tr>\n",
       "    <tr>\n",
       "      <th>3</th>\n",
       "      <td>Why did the math book look sad?</td>\n",
       "      <td>Because it had too many problems.</td>\n",
       "    </tr>\n",
       "    <tr>\n",
       "      <th>4</th>\n",
       "      <td>Why do bees hum?</td>\n",
       "      <td>Because they don't know the words.</td>\n",
       "    </tr>\n",
       "    <tr>\n",
       "      <th>5</th>\n",
       "      <td>Where did the API go to eat?</td>\n",
       "      <td>To the RESTaurant.</td>\n",
       "    </tr>\n",
       "    <tr>\n",
       "      <th>6</th>\n",
       "      <td>What's a computer's favorite snack?</td>\n",
       "      <td>Microchips.</td>\n",
       "    </tr>\n",
       "    <tr>\n",
       "      <th>7</th>\n",
       "      <td>Why did the cookie cry?</td>\n",
       "      <td>Because his mother was a wafer so long</td>\n",
       "    </tr>\n",
       "    <tr>\n",
       "      <th>8</th>\n",
       "      <td>What did the pirate say on his 80th birthday?</td>\n",
       "      <td>Aye Matey!</td>\n",
       "    </tr>\n",
       "    <tr>\n",
       "      <th>9</th>\n",
       "      <td>How do you generate a random string?</td>\n",
       "      <td>Put a Windows user in front of Vim and tell th...</td>\n",
       "    </tr>\n",
       "  </tbody>\n",
       "</table>\n",
       "</div>"
      ],
      "text/plain": [
       "                                           setup  \\\n",
       "0           What do you call two barracuda fish?   \n",
       "1     What is the tallest building in the world?   \n",
       "2                      Why are ghosts bad liars?   \n",
       "3                Why did the math book look sad?   \n",
       "4                               Why do bees hum?   \n",
       "5                   Where did the API go to eat?   \n",
       "6            What's a computer's favorite snack?   \n",
       "7                        Why did the cookie cry?   \n",
       "8  What did the pirate say on his 80th birthday?   \n",
       "9           How do you generate a random string?   \n",
       "\n",
       "                                           punchline  \n",
       "0                                       A Pairacuda!  \n",
       "1            The library, it’s got the most stories!  \n",
       "2            Because you can see right through them!  \n",
       "3                  Because it had too many problems.  \n",
       "4                 Because they don't know the words.  \n",
       "5                                 To the RESTaurant.  \n",
       "6                                        Microchips.  \n",
       "7             Because his mother was a wafer so long  \n",
       "8                                         Aye Matey!  \n",
       "9  Put a Windows user in front of Vim and tell th...  "
      ]
     },
     "execution_count": 36,
     "metadata": {},
     "output_type": "execute_result"
    }
   ],
   "source": [
    "df3"
   ]
  },
  {
   "cell_type": "code",
   "execution_count": null,
   "metadata": {},
   "outputs": [],
   "source": []
  }
 ],
 "metadata": {
  "kernelspec": {
   "display_name": "env",
   "language": "python",
   "name": "python3"
  },
  "language_info": {
   "codemirror_mode": {
    "name": "ipython",
    "version": 3
   },
   "file_extension": ".py",
   "mimetype": "text/x-python",
   "name": "python",
   "nbconvert_exporter": "python",
   "pygments_lexer": "ipython3",
   "version": "3.12.7"
  }
 },
 "nbformat": 4,
 "nbformat_minor": 2
}
